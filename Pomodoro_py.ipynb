{
  "nbformat": 4,
  "nbformat_minor": 0,
  "metadata": {
    "colab": {
      "provenance": [],
      "authorship_tag": "ABX9TyPSXe1lij4BQ2DkT1nDAxW5",
      "include_colab_link": true
    },
    "kernelspec": {
      "name": "python3",
      "display_name": "Python 3"
    },
    "language_info": {
      "name": "python"
    }
  },
  "cells": [
    {
      "cell_type": "markdown",
      "metadata": {
        "id": "view-in-github",
        "colab_type": "text"
      },
      "source": [
        "<a href=\"https://colab.research.google.com/github/IsmailKorrapati/pomodoro-timer/blob/main/Pomodoro_py.ipynb\" target=\"_parent\"><img src=\"https://colab.research.google.com/assets/colab-badge.svg\" alt=\"Open In Colab\"/></a>"
      ]
    },
    {
      "cell_type": "code",
      "execution_count": null,
      "metadata": {
        "id": "Xzq8e747eB7k"
      },
      "outputs": [],
      "source": [
        "#project II\n",
        "import time\n",
        "\n",
        "def pomodoro_timer(work_minutes,short_break_minutes,long_break_minutes,num_pomodoro):\n",
        "    for i in range(num_pomodoro):\n",
        "        print(f\"pomodoro{i+1}\")\n",
        "        work(work_minutes)\n",
        "        print(\"short break\")\n",
        "        break_time(short_break_minutes)\n",
        "\n",
        "        if (i+1) % 4 == 0:\n",
        "            print(\"long break\")\n",
        "            break_time(long_break_minutes)\n",
        "\n",
        "def work(minutes):\n",
        "    seconds = minutes * 60\n",
        "    while seconds > 0:\n",
        "        min,secs = divmod(seconds,60)\n",
        "        timer = '{:02d}:{:02d}'.format(min,secs)\n",
        "        print(timer,end = \"\\r\")\n",
        "        time.sleep(1)\n",
        "        seconds -=1\n",
        "    print(\"\\n\")\n",
        "\n",
        "def break_time(minutes):\n",
        "    seconds = minutes * 60\n",
        "    while seconds > 0:\n",
        "        min,secs = divmod(seconds,60)\n",
        "        timer = '{:02d}:{:02d}'.format(min,secs)\n",
        "        print(timer,end = \"\\r\")\n",
        "        time.sleep(1)\n",
        "        seconds -= 1\n",
        "    print(\"\\n\")\n",
        "\n",
        "work_minutes = 25\n",
        "\n",
        "short_break_minutes = 5\n",
        "\n",
        "long_break_minutes = 15\n",
        "\n",
        "num_pomodoro = 4\n",
        "\n",
        "pomodoro_timer(work_minutes,short_break_minutes,long_break_minutes,num_pomodoro)"
      ]
    }
  ]
}